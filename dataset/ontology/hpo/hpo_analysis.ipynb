{
 "cells": [
  {
   "cell_type": "markdown",
   "metadata": {},
   "source": [
    "# HPO (Human Phenotype Ontology) Exploration"
   ]
  },
  {
   "cell_type": "code",
   "execution_count": 2,
   "metadata": {},
   "outputs": [],
   "source": [
    "import pandas as pd"
   ]
  },
  {
   "cell_type": "markdown",
   "metadata": {},
   "source": [
    "# Edge File"
   ]
  },
  {
   "cell_type": "code",
   "execution_count": 3,
   "metadata": {},
   "outputs": [
    {
     "name": "stderr",
     "output_type": "stream",
     "text": [
      "/var/folders/vv/q2ykgsqj4338jvfxhd92l4xc0000gn/T/ipykernel_71396/1577888489.py:2: DtypeWarning: Columns (2,6,8,9) have mixed types. Specify dtype option on import or set low_memory=False.\n",
      "  df_edge = pd.read_csv(edge_file_path, delimiter='\\t')\n"
     ]
    },
    {
     "data": {
      "text/html": [
       "<div>\n",
       "<style scoped>\n",
       "    .dataframe tbody tr th:only-of-type {\n",
       "        vertical-align: middle;\n",
       "    }\n",
       "\n",
       "    .dataframe tbody tr th {\n",
       "        vertical-align: top;\n",
       "    }\n",
       "\n",
       "    .dataframe thead th {\n",
       "        text-align: right;\n",
       "    }\n",
       "</style>\n",
       "<table border=\"1\" class=\"dataframe\">\n",
       "  <thead>\n",
       "    <tr style=\"text-align: right;\">\n",
       "      <th></th>\n",
       "      <th>database_id</th>\n",
       "      <th>disease_name</th>\n",
       "      <th>qualifier</th>\n",
       "      <th>hpo_id</th>\n",
       "      <th>reference</th>\n",
       "      <th>evidence</th>\n",
       "      <th>onset</th>\n",
       "      <th>frequency</th>\n",
       "      <th>sex</th>\n",
       "      <th>modifier</th>\n",
       "      <th>aspect</th>\n",
       "      <th>biocuration</th>\n",
       "    </tr>\n",
       "  </thead>\n",
       "  <tbody>\n",
       "    <tr>\n",
       "      <th>0</th>\n",
       "      <td>OMIM:619340</td>\n",
       "      <td>Developmental and epileptic encephalopathy 96</td>\n",
       "      <td>NaN</td>\n",
       "      <td>HP:0011097</td>\n",
       "      <td>PMID:31675180</td>\n",
       "      <td>PCS</td>\n",
       "      <td>NaN</td>\n",
       "      <td>1/2</td>\n",
       "      <td>NaN</td>\n",
       "      <td>NaN</td>\n",
       "      <td>P</td>\n",
       "      <td>HPO:probinson[2021-06-21]</td>\n",
       "    </tr>\n",
       "    <tr>\n",
       "      <th>1</th>\n",
       "      <td>OMIM:619340</td>\n",
       "      <td>Developmental and epileptic encephalopathy 96</td>\n",
       "      <td>NaN</td>\n",
       "      <td>HP:0002187</td>\n",
       "      <td>PMID:31675180</td>\n",
       "      <td>PCS</td>\n",
       "      <td>NaN</td>\n",
       "      <td>1/1</td>\n",
       "      <td>NaN</td>\n",
       "      <td>NaN</td>\n",
       "      <td>P</td>\n",
       "      <td>HPO:probinson[2021-06-21]</td>\n",
       "    </tr>\n",
       "    <tr>\n",
       "      <th>2</th>\n",
       "      <td>OMIM:619340</td>\n",
       "      <td>Developmental and epileptic encephalopathy 96</td>\n",
       "      <td>NaN</td>\n",
       "      <td>HP:0001518</td>\n",
       "      <td>PMID:31675180</td>\n",
       "      <td>PCS</td>\n",
       "      <td>NaN</td>\n",
       "      <td>1/2</td>\n",
       "      <td>NaN</td>\n",
       "      <td>NaN</td>\n",
       "      <td>P</td>\n",
       "      <td>HPO:probinson[2021-06-21]</td>\n",
       "    </tr>\n",
       "    <tr>\n",
       "      <th>3</th>\n",
       "      <td>OMIM:619340</td>\n",
       "      <td>Developmental and epileptic encephalopathy 96</td>\n",
       "      <td>NaN</td>\n",
       "      <td>HP:0032792</td>\n",
       "      <td>PMID:31675180</td>\n",
       "      <td>PCS</td>\n",
       "      <td>NaN</td>\n",
       "      <td>1/2</td>\n",
       "      <td>NaN</td>\n",
       "      <td>NaN</td>\n",
       "      <td>P</td>\n",
       "      <td>HPO:probinson[2021-06-21]</td>\n",
       "    </tr>\n",
       "    <tr>\n",
       "      <th>4</th>\n",
       "      <td>OMIM:619340</td>\n",
       "      <td>Developmental and epileptic encephalopathy 96</td>\n",
       "      <td>NaN</td>\n",
       "      <td>HP:0011451</td>\n",
       "      <td>PMID:31675180</td>\n",
       "      <td>PCS</td>\n",
       "      <td>NaN</td>\n",
       "      <td>1/2</td>\n",
       "      <td>NaN</td>\n",
       "      <td>NaN</td>\n",
       "      <td>P</td>\n",
       "      <td>HPO:probinson[2021-06-21]</td>\n",
       "    </tr>\n",
       "  </tbody>\n",
       "</table>\n",
       "</div>"
      ],
      "text/plain": [
       "   database_id                                   disease_name qualifier  \\\n",
       "0  OMIM:619340  Developmental and epileptic encephalopathy 96       NaN   \n",
       "1  OMIM:619340  Developmental and epileptic encephalopathy 96       NaN   \n",
       "2  OMIM:619340  Developmental and epileptic encephalopathy 96       NaN   \n",
       "3  OMIM:619340  Developmental and epileptic encephalopathy 96       NaN   \n",
       "4  OMIM:619340  Developmental and epileptic encephalopathy 96       NaN   \n",
       "\n",
       "       hpo_id      reference evidence onset frequency  sex modifier aspect  \\\n",
       "0  HP:0011097  PMID:31675180      PCS   NaN       1/2  NaN      NaN      P   \n",
       "1  HP:0002187  PMID:31675180      PCS   NaN       1/1  NaN      NaN      P   \n",
       "2  HP:0001518  PMID:31675180      PCS   NaN       1/2  NaN      NaN      P   \n",
       "3  HP:0032792  PMID:31675180      PCS   NaN       1/2  NaN      NaN      P   \n",
       "4  HP:0011451  PMID:31675180      PCS   NaN       1/2  NaN      NaN      P   \n",
       "\n",
       "                 biocuration  \n",
       "0  HPO:probinson[2021-06-21]  \n",
       "1  HPO:probinson[2021-06-21]  \n",
       "2  HPO:probinson[2021-06-21]  \n",
       "3  HPO:probinson[2021-06-21]  \n",
       "4  HPO:probinson[2021-06-21]  "
      ]
     },
     "execution_count": 3,
     "metadata": {},
     "output_type": "execute_result"
    }
   ],
   "source": [
    "edge_file_path = 'phenotype.hpoa'\n",
    "df_edge = pd.read_csv(edge_file_path, delimiter='\\t')\n",
    "df_edge.head()"
   ]
  },
  {
   "cell_type": "markdown",
   "metadata": {},
   "source": [
    "# Ontology File"
   ]
  },
  {
   "cell_type": "code",
   "execution_count": 5,
   "metadata": {},
   "outputs": [
    {
     "name": "stdout",
     "output_type": "stream",
     "text": [
      "Graph has 897916 statements.\n"
     ]
    }
   ],
   "source": [
    "from rdflib import Graph\n",
    "\n",
    "g = Graph()\n",
    "g.parse(\"hp.owl\", format=\"xml\")\n",
    "print(f\"Graph has {len(g)} statements.\")\n"
   ]
  },
  {
   "cell_type": "code",
   "execution_count": 10,
   "metadata": {},
   "outputs": [
    {
     "name": "stdout",
     "output_type": "stream",
     "text": [
      "Subject: N0a0a944b635847e7a70000441282f24b, Predicate: http://www.w3.org/1999/02/22-rdf-syntax-ns#rest, Object: N3913e37074f24132a1d65106d10ec899\n",
      "Subject: http://purl.obolibrary.org/obo/HP_0100047, Predicate: http://www.w3.org/1999/02/22-rdf-syntax-ns#type, Object: http://www.w3.org/2002/07/owl#Class\n",
      "Subject: N3e0df51aa7b644d5a66a6b15dd7d5cdf, Predicate: http://www.w3.org/1999/02/22-rdf-syntax-ns#type, Object: http://www.w3.org/2002/07/owl#Axiom\n",
      "Subject: Ndec052856c0b4749acc1f9c25dbbc8d7, Predicate: http://www.w3.org/2002/07/owl#onProperty, Object: http://purl.obolibrary.org/obo/BFO_0000050\n",
      "Subject: Nab1f360b37e342bfb3be12555d637810, Predicate: http://www.w3.org/2002/07/owl#annotatedTarget, Object: anatomical wall of small bowel\n",
      "Subject: Nc90b5cef3e2d42d6a7ba91b572a28e7e, Predicate: http://www.w3.org/2002/07/owl#annotatedProperty, Object: http://purl.obolibrary.org/obo/IAO_0000115\n",
      "Subject: http://purl.obolibrary.org/obo/HP_0005924, Predicate: http://www.geneontology.org/formats/oboInOwl#hasExactSynonym, Object: Abnormality of the end part of the hand bone\n",
      "Subject: http://purl.obolibrary.org/obo/GO_1905904, Predicate: http://www.geneontology.org/formats/oboInOwl#hasNarrowSynonym, Object: activation of mesoderm formation\n",
      "Subject: http://purl.obolibrary.org/obo/HP_0001905, Predicate: http://www.geneontology.org/formats/oboInOwl#hasDbXref, Object: UMLS:C0272278\n",
      "Subject: http://purl.obolibrary.org/obo/HP_0007549, Predicate: http://www.w3.org/2000/01/rdf-schema#subClassOf, Object: http://purl.obolibrary.org/obo/HP_0025723\n"
     ]
    }
   ],
   "source": [
    "index = 0\n",
    "for s, p, o in g:\n",
    "    print(f\"Subject: {s}, Predicate: {p}, Object: {o}\")\n",
    "    index+=1\n",
    "    if index == 10:\n",
    "        break"
   ]
  }
 ],
 "metadata": {
  "kernelspec": {
   "display_name": "venv",
   "language": "python",
   "name": "python3"
  },
  "language_info": {
   "codemirror_mode": {
    "name": "ipython",
    "version": 3
   },
   "file_extension": ".py",
   "mimetype": "text/x-python",
   "name": "python",
   "nbconvert_exporter": "python",
   "pygments_lexer": "ipython3",
   "version": "3.10.0"
  }
 },
 "nbformat": 4,
 "nbformat_minor": 2
}
